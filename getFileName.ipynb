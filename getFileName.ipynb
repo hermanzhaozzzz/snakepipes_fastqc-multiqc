{
 "cells": [
  {
   "cell_type": "code",
   "execution_count": 1,
   "metadata": {},
   "outputs": [],
   "source": [
    "import os"
   ]
  },
  {
   "cell_type": "code",
   "execution_count": 4,
   "metadata": {},
   "outputs": [
    {
     "data": {
      "text/plain": [
       "['N5-1-Ans-1_combined_R1.fastq.gz',\n",
       " 'N5-1-Ans-1_combined_R2.fastq.gz',\n",
       " 'N5-1-Ans-2_combined_R1.fastq.gz',\n",
       " 'N5-1-Ans-2_combined_R2.fastq.gz',\n",
       " 'N5-1-Tns-1_combined_R1.fastq.gz',\n",
       " 'N5-1-Tns-1_combined_R2.fastq.gz',\n",
       " 'N5-1-Tns-2_combined_R1.fastq.gz',\n",
       " 'N5-1-Tns-2_combined_R2.fastq.gz',\n",
       " 'N5-1-Uns-1_combined_R1.fastq.gz',\n",
       " 'N5-1-Uns-1_combined_R2.fastq.gz',\n",
       " 'N5-1-Uns-2_combined_R1.fastq.gz',\n",
       " 'N5-1-Uns-2_combined_R2.fastq.gz',\n",
       " 'N5-1-WT-1_combined_R1.fastq.gz',\n",
       " 'N5-1-WT-1_combined_R2.fastq.gz',\n",
       " 'N5-1-WT-2_combined_R1.fastq.gz',\n",
       " 'N5-1-WT-2_combined_R2.fastq.gz']"
      ]
     },
     "execution_count": 4,
     "metadata": {},
     "output_type": "execute_result"
    }
   ],
   "source": [
    "ls = [i for i in os.listdir('../fastq') if \"fastq.gz\" in i]\n",
    "ls.sort()\n",
    "ls"
   ]
  },
  {
   "cell_type": "code",
   "execution_count": 5,
   "metadata": {},
   "outputs": [
    {
     "data": {
      "text/plain": [
       "['N5-1-Ans-1_combined',\n",
       " 'N5-1-Ans-1_combined',\n",
       " 'N5-1-Ans-2_combined',\n",
       " 'N5-1-Ans-2_combined',\n",
       " 'N5-1-Tns-1_combined',\n",
       " 'N5-1-Tns-1_combined',\n",
       " 'N5-1-Tns-2_combined',\n",
       " 'N5-1-Tns-2_combined',\n",
       " 'N5-1-Uns-1_combined',\n",
       " 'N5-1-Uns-1_combined',\n",
       " 'N5-1-Uns-2_combined',\n",
       " 'N5-1-Uns-2_combined',\n",
       " 'N5-1-WT-1_combined',\n",
       " 'N5-1-WT-1_combined',\n",
       " 'N5-1-WT-2_combined',\n",
       " 'N5-1-WT-2_combined']"
      ]
     },
     "execution_count": 5,
     "metadata": {},
     "output_type": "execute_result"
    }
   ],
   "source": [
    "ls = [i.split('_R')[0] for i in ls]\n",
    "ls"
   ]
  },
  {
   "cell_type": "code",
   "execution_count": null,
   "metadata": {},
   "outputs": [],
   "source": []
  }
 ],
 "metadata": {
  "kernelspec": {
   "display_name": "Python 3",
   "language": "python",
   "name": "python3"
  },
  "language_info": {
   "codemirror_mode": {
    "name": "ipython",
    "version": 3
   },
   "file_extension": ".py",
   "mimetype": "text/x-python",
   "name": "python",
   "nbconvert_exporter": "python",
   "pygments_lexer": "ipython3",
   "version": "3.8.3"
  }
 },
 "nbformat": 4,
 "nbformat_minor": 4
}
