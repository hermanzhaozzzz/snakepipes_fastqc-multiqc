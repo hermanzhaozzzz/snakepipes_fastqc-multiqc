{
 "cells": [
  {
   "cell_type": "code",
   "execution_count": 1,
   "metadata": {},
   "outputs": [],
   "source": [
    "import os"
   ]
  },
  {
   "cell_type": "code",
   "execution_count": 2,
   "metadata": {},
   "outputs": [
    {
     "data": {
      "text/plain": [
       "['EMX1-digenome-5-1_combined_R1.fastq.gz',\n",
       " 'EMX1-digenome-5-1_combined_R2.fastq.gz',\n",
       " 'EMX1-digenome-5-2_combined_R1.fastq.gz',\n",
       " 'EMX1-digenome-5-2_combined_R2.fastq.gz',\n",
       " 'cas9-RUX-25_combined_R1.fastq.gz',\n",
       " 'cas9-RUX-25_combined_R2.fastq.gz',\n",
       " 'cpf1-RUX-21_combined_R1.fastq.gz',\n",
       " 'cpf1-RUX-21_combined_R2.fastq.gz']"
      ]
     },
     "execution_count": 2,
     "metadata": {},
     "output_type": "execute_result"
    }
   ],
   "source": [
    "ls = [i for i in os.listdir('../fastq') if \"fastq.gz\" in i]\n",
    "ls.sort()\n",
    "ls"
   ]
  },
  {
   "cell_type": "code",
   "execution_count": 3,
   "metadata": {},
   "outputs": [
    {
     "data": {
      "text/plain": [
       "['EMX1-digenome-5-1_combined',\n",
       " 'EMX1-digenome-5-1_combined',\n",
       " 'EMX1-digenome-5-2_combined',\n",
       " 'EMX1-digenome-5-2_combined',\n",
       " 'cas9-RUX-25_combined',\n",
       " 'cas9-RUX-25_combined',\n",
       " 'cpf1-RUX-21_combined',\n",
       " 'cpf1-RUX-21_combined']"
      ]
     },
     "execution_count": 3,
     "metadata": {},
     "output_type": "execute_result"
    }
   ],
   "source": [
    "ls = [i.split('_R')[0] for i in ls]\n",
    "ls"
   ]
  },
  {
   "cell_type": "code",
   "execution_count": null,
   "metadata": {},
   "outputs": [],
   "source": []
  }
 ],
 "metadata": {
  "kernelspec": {
   "display_name": "Python 3",
   "language": "python",
   "name": "python3"
  },
  "language_info": {
   "codemirror_mode": {
    "name": "ipython",
    "version": 3
   },
   "file_extension": ".py",
   "mimetype": "text/x-python",
   "name": "python",
   "nbconvert_exporter": "python",
   "pygments_lexer": "ipython3",
   "version": "3.8.3"
  }
 },
 "nbformat": 4,
 "nbformat_minor": 4
}
