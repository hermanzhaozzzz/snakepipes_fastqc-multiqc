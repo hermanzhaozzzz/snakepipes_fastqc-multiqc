{
 "cells": [
  {
   "cell_type": "code",
   "execution_count": 1,
   "metadata": {},
   "outputs": [],
   "source": [
    "import os"
   ]
  },
  {
   "cell_type": "code",
   "execution_count": 2,
   "metadata": {},
   "outputs": [
    {
     "data": {
      "text/plain": [
       "['SI_EMX1_off10_BE3.fastq.gz',\n",
       " 'SI_EMX1_off10_untr.fastq.gz',\n",
       " 'SI_EMX1_off1_BE3.fastq.gz',\n",
       " 'SI_EMX1_off1_untr.fastq.gz']"
      ]
     },
     "execution_count": 2,
     "metadata": {},
     "output_type": "execute_result"
    }
   ],
   "source": [
    "ls = [i for i in os.listdir('../fastq') if \"fastq.gz\" in i or \"fq.gz\" in i]\n",
    "ls.sort()\n",
    "ls"
   ]
  },
  {
   "cell_type": "code",
   "execution_count": 3,
   "metadata": {},
   "outputs": [
    {
     "data": {
      "text/plain": [
       "['SI_EMX1_off10_BE3',\n",
       " 'SI_EMX1_off10_untr',\n",
       " 'SI_EMX1_off1_BE3',\n",
       " 'SI_EMX1_off1_untr']"
      ]
     },
     "execution_count": 3,
     "metadata": {},
     "output_type": "execute_result"
    }
   ],
   "source": [
    "# For single end\n",
    "\n",
    "ls = [i.split('.fastq')[0] for i in ls]\n",
    "ls = list(set(ls))\n",
    "ls.sort()\n",
    "ls\n",
    "\n",
    "# For pair end\n",
    "\n",
    "# ls = [i.split('_R')[0] for i in ls]\n",
    "# ls = list(set(ls))\n",
    "# ls.sort()\n",
    "# ls"
   ]
  },
  {
   "cell_type": "code",
   "execution_count": null,
   "metadata": {},
   "outputs": [],
   "source": []
  }
 ],
 "metadata": {
  "kernelspec": {
   "display_name": "Python 3 (ipykernel)",
   "language": "python",
   "name": "python3"
  },
  "language_info": {
   "codemirror_mode": {
    "name": "ipython",
    "version": 3
   },
   "file_extension": ".py",
   "mimetype": "text/x-python",
   "name": "python",
   "nbconvert_exporter": "python",
   "pygments_lexer": "ipython3",
   "version": "3.9.7"
  }
 },
 "nbformat": 4,
 "nbformat_minor": 4
}
