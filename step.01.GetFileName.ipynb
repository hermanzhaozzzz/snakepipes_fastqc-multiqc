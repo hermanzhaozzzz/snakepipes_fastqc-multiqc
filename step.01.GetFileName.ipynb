{
 "cells": [
  {
   "cell_type": "code",
   "execution_count": 1,
   "metadata": {},
   "outputs": [],
   "source": [
    "import os"
   ]
  },
  {
   "cell_type": "code",
   "execution_count": 2,
   "metadata": {},
   "outputs": [],
   "source": [
    "ls = [i for i in os.listdir('../fastq') if \"fastq.gz\" in i]\n",
    "ls.sort()\n",
    "# ls"
   ]
  },
  {
   "cell_type": "code",
   "execution_count": 3,
   "metadata": {},
   "outputs": [
    {
     "data": {
      "text/plain": [
       "['1308A_combined',\n",
       " '1310A_combined',\n",
       " '6LdAC-1_combined',\n",
       " '6LdAC-2_combined',\n",
       " '6Lonly_combined',\n",
       " '6RdAN-1_combined',\n",
       " '6RdAN-2_combined',\n",
       " '6Ronly_combined',\n",
       " 'IA-0-25_combined',\n",
       " 'IA-1-2_combined',\n",
       " 'IA-1-5_combined',\n",
       " 'N1-veri-2_combined',\n",
       " 'N4-1333-2_combined',\n",
       " 'N4-1397R-2_combined',\n",
       " 'N4-veri-2_combined',\n",
       " 'N5-3-veri-2_combined',\n",
       " 'dACN-1_combined',\n",
       " 'dACN-2_combined']"
      ]
     },
     "execution_count": 3,
     "metadata": {},
     "output_type": "execute_result"
    }
   ],
   "source": [
    "ls = [i.split('_R')[0] for i in ls]\n",
    "ls = list(set(ls))\n",
    "ls.sort()\n",
    "ls"
   ]
  },
  {
   "cell_type": "code",
   "execution_count": 4,
   "metadata": {},
   "outputs": [
    {
     "data": {
      "text/plain": [
       "['1308A',\n",
       " '1310A',\n",
       " '6LdAC-1',\n",
       " '6LdAC-2',\n",
       " '6Lonly',\n",
       " '6RdAN-1',\n",
       " '6RdAN-2',\n",
       " '6Ronly',\n",
       " 'IA-0-25',\n",
       " 'IA-1-2',\n",
       " 'IA-1-5',\n",
       " 'N1-veri-2',\n",
       " 'N4-1333-2',\n",
       " 'N4-1397R-2',\n",
       " 'N4-veri-2',\n",
       " 'N5-3-veri-2',\n",
       " 'dACN-1',\n",
       " 'dACN-2']"
      ]
     },
     "execution_count": 4,
     "metadata": {},
     "output_type": "execute_result"
    }
   ],
   "source": [
    "[i.replace(\"_combined\", \"\") for i in ls]"
   ]
  },
  {
   "cell_type": "code",
   "execution_count": null,
   "metadata": {},
   "outputs": [],
   "source": []
  }
 ],
 "metadata": {
  "kernelspec": {
   "display_name": "Python 3",
   "language": "python",
   "name": "python3"
  },
  "language_info": {
   "codemirror_mode": {
    "name": "ipython",
    "version": 3
   },
   "file_extension": ".py",
   "mimetype": "text/x-python",
   "name": "python",
   "nbconvert_exporter": "python",
   "pygments_lexer": "ipython3",
   "version": "3.8.3"
  }
 },
 "nbformat": 4,
 "nbformat_minor": 4
}
