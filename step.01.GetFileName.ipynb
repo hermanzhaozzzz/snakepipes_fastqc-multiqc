{
 "cells": [
  {
   "cell_type": "markdown",
   "metadata": {
    "tags": []
   },
   "source": [
    "# 标准质控流程"
   ]
  },
  {
   "cell_type": "code",
   "execution_count": 1,
   "metadata": {
    "execution": {
     "iopub.execute_input": "2022-07-22T17:02:01.804954Z",
     "iopub.status.busy": "2022-07-22T17:02:01.804352Z",
     "iopub.status.idle": "2022-07-22T17:02:01.820715Z",
     "shell.execute_reply": "2022-07-22T17:02:01.819330Z",
     "shell.execute_reply.started": "2022-07-22T17:02:01.804831Z"
    },
    "tags": []
   },
   "outputs": [],
   "source": [
    "import glob\n",
    "import json"
   ]
  },
  {
   "cell_type": "markdown",
   "metadata": {},
   "source": [
    "## 参数设置"
   ]
  },
  {
   "cell_type": "code",
   "execution_count": 2,
   "metadata": {
    "execution": {
     "iopub.execute_input": "2022-07-22T17:02:01.824118Z",
     "iopub.status.busy": "2022-07-22T17:02:01.823662Z",
     "iopub.status.idle": "2022-07-22T17:02:01.830122Z",
     "shell.execute_reply": "2022-07-22T17:02:01.828555Z",
     "shell.execute_reply.started": "2022-07-22T17:02:01.824075Z"
    },
    "tags": []
   },
   "outputs": [],
   "source": [
    "thread = 20"
   ]
  },
  {
   "cell_type": "markdown",
   "metadata": {},
   "source": [
    "## 生成samples.json"
   ]
  },
  {
   "cell_type": "code",
   "execution_count": 3,
   "metadata": {
    "execution": {
     "iopub.execute_input": "2022-07-22T17:02:01.832434Z",
     "iopub.status.busy": "2022-07-22T17:02:01.831877Z",
     "iopub.status.idle": "2022-07-22T17:02:01.841067Z",
     "shell.execute_reply": "2022-07-22T17:02:01.839713Z",
     "shell.execute_reply.started": "2022-07-22T17:02:01.832392Z"
    },
    "tags": []
   },
   "outputs": [],
   "source": [
    "ls = glob.glob(\"../fastq/*.fastq.gz\")\n",
    "ls.sort()\n",
    "assert ls != []  # 需要非空\n",
    "ls_se = [i for i in ls if i.endswith(\"SE.fastq.gz\")]\n",
    "ls_pe = [i for i in ls if i.endswith(\"R1.fastq.gz\")]"
   ]
  },
  {
   "cell_type": "code",
   "execution_count": 4,
   "metadata": {
    "execution": {
     "iopub.execute_input": "2022-07-22T17:02:01.868384Z",
     "iopub.status.busy": "2022-07-22T17:02:01.867993Z",
     "iopub.status.idle": "2022-07-22T17:02:01.875662Z",
     "shell.execute_reply": "2022-07-22T17:02:01.874483Z",
     "shell.execute_reply.started": "2022-07-22T17:02:01.868348Z"
    },
    "tags": []
   },
   "outputs": [],
   "source": [
    "if ls_se:\n",
    "    ls_sample = [i.split(\"/\")[-1].split(\"_SE.fastq\")[0] for i in ls_se]\n",
    "    end_type = \"SE\"\n",
    "\n",
    "if ls_pe:\n",
    "    ls_sample = [i.split(\"/\")[-1].split(\"_R1.fastq\")[0] for i in ls_pe]\n",
    "    end_type = \"PE\""
   ]
  },
  {
   "cell_type": "code",
   "execution_count": 5,
   "metadata": {
    "execution": {
     "iopub.execute_input": "2022-07-22T17:02:01.878184Z",
     "iopub.status.busy": "2022-07-22T17:02:01.877729Z",
     "iopub.status.idle": "2022-07-22T17:02:01.894508Z",
     "shell.execute_reply": "2022-07-22T17:02:01.893478Z",
     "shell.execute_reply.started": "2022-07-22T17:02:01.878150Z"
    },
    "tags": []
   },
   "outputs": [
    {
     "data": {
      "text/plain": [
       "{'seq_mode': 'PE',\n",
       " 'samples': ['RNA-seq_CTCF-AID_auxin1day_rep1',\n",
       "  'RNA-seq_CTCF-AID_auxin1day_rep2',\n",
       "  'RNA-seq_CTCF-AID_auxin1day_rep3',\n",
       "  'RNA-seq_CTCF-AID_auxin2days_rep1',\n",
       "  'RNA-seq_CTCF-AID_auxin2days_rep2',\n",
       "  'RNA-seq_CTCF-AID_auxin2days_rep3',\n",
       "  'RNA-seq_CTCF-AID_auxin4days_rep1',\n",
       "  'RNA-seq_CTCF-AID_auxin4days_rep2',\n",
       "  'RNA-seq_CTCF-AID_auxin4days_rep3',\n",
       "  'RNA-seq_CTCF-AID_untreated_rep1',\n",
       "  'RNA-seq_CTCF-AID_untreated_rep2',\n",
       "  'RNA-seq_CTCF-AID_untreated_rep3',\n",
       "  'RNA-seq_CTCF-AID_washoff2days_rep1',\n",
       "  'RNA-seq_CTCF-AID_washoff2days_rep2',\n",
       "  'RNA-seq_CTCF-AID_washoff2days_rep3',\n",
       "  'RNA-seq_WT-untagged_auxin2days_rep1',\n",
       "  'RNA-seq_WT-untagged_auxin2days_rep2',\n",
       "  'RNA-seq_WT-untagged_auxin2days_rep3',\n",
       "  'RNA-seq_WT-untagged_auxin4days_rep1',\n",
       "  'RNA-seq_WT-untagged_auxin4days_rep2',\n",
       "  'RNA-seq_WT-untagged_auxin4days_rep3',\n",
       "  'RNA-seq_WT-untagged_untreated_rep1',\n",
       "  'RNA-seq_WT-untagged_untreated_rep2',\n",
       "  'RNA-seq_WT-untagged_untreated_rep3'],\n",
       " 'thread': 20}"
      ]
     },
     "execution_count": 5,
     "metadata": {},
     "output_type": "execute_result"
    }
   ],
   "source": [
    "dt = {\"seq_mode\": end_type, \"samples\": ls_sample, \"thread\": thread}\n",
    "dt"
   ]
  },
  {
   "cell_type": "code",
   "execution_count": 6,
   "metadata": {
    "execution": {
     "iopub.execute_input": "2022-07-22T17:02:01.896139Z",
     "iopub.status.busy": "2022-07-22T17:02:01.895727Z",
     "iopub.status.idle": "2022-07-22T17:02:01.901222Z",
     "shell.execute_reply": "2022-07-22T17:02:01.900249Z",
     "shell.execute_reply.started": "2022-07-22T17:02:01.896108Z"
    },
    "tags": []
   },
   "outputs": [],
   "source": [
    "with open(\"./samples.json\", \"wt\") as f:\n",
    "    f.write(json.dumps(dt))"
   ]
  }
 ],
 "metadata": {
  "kernelspec": {
   "display_name": "Python 3 (ipykernel)",
   "language": "python",
   "name": "python3"
  },
  "language_info": {
   "codemirror_mode": {
    "name": "ipython",
    "version": 3
   },
   "file_extension": ".py",
   "mimetype": "text/x-python",
   "name": "python",
   "nbconvert_exporter": "python",
   "pygments_lexer": "ipython3",
   "version": "3.9.13"
  }
 },
 "nbformat": 4,
 "nbformat_minor": 4
}
