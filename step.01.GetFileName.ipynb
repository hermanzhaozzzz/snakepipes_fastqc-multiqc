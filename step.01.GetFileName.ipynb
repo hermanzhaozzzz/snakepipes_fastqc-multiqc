{
 "cells": [
  {
   "cell_type": "markdown",
   "metadata": {
    "tags": []
   },
   "source": [
    "# 标准质控流程"
   ]
  },
  {
   "cell_type": "code",
   "execution_count": 1,
   "metadata": {
    "execution": {
     "iopub.execute_input": "2022-07-22T16:23:24.094074Z",
     "iopub.status.busy": "2022-07-22T16:23:24.093129Z",
     "iopub.status.idle": "2022-07-22T16:23:24.108315Z",
     "shell.execute_reply": "2022-07-22T16:23:24.106975Z",
     "shell.execute_reply.started": "2022-07-22T16:23:24.093950Z"
    },
    "tags": []
   },
   "outputs": [],
   "source": [
    "import glob\n",
    "import json"
   ]
  },
  {
   "cell_type": "markdown",
   "metadata": {},
   "source": [
    "## 参数设置"
   ]
  },
  {
   "cell_type": "code",
   "execution_count": 2,
   "metadata": {
    "execution": {
     "iopub.execute_input": "2022-07-22T16:23:24.111692Z",
     "iopub.status.busy": "2022-07-22T16:23:24.111243Z",
     "iopub.status.idle": "2022-07-22T16:23:24.116782Z",
     "shell.execute_reply": "2022-07-22T16:23:24.115668Z",
     "shell.execute_reply.started": "2022-07-22T16:23:24.111650Z"
    }
   },
   "outputs": [],
   "source": [
    "thread = 20"
   ]
  },
  {
   "cell_type": "markdown",
   "metadata": {},
   "source": [
    "## 生成samples.json"
   ]
  },
  {
   "cell_type": "code",
   "execution_count": 3,
   "metadata": {
    "execution": {
     "iopub.execute_input": "2022-07-22T16:23:24.118800Z",
     "iopub.status.busy": "2022-07-22T16:23:24.118276Z",
     "iopub.status.idle": "2022-07-22T16:23:24.126225Z",
     "shell.execute_reply": "2022-07-22T16:23:24.125153Z",
     "shell.execute_reply.started": "2022-07-22T16:23:24.118759Z"
    },
    "tags": []
   },
   "outputs": [],
   "source": [
    "ls = glob.glob(\"../fastq/*.fastq.gz\")\n",
    "ls.sort()\n",
    "assert ls != []  # 需要非空\n",
    "ls_se = [i for i in ls if i.endswith(\"SE.fastq.gz\")]\n",
    "ls_pe = [i for i in ls if i.endswith(\"R1.fastq.gz\")]"
   ]
  },
  {
   "cell_type": "code",
   "execution_count": 4,
   "metadata": {
    "execution": {
     "iopub.execute_input": "2022-07-22T16:23:24.128018Z",
     "iopub.status.busy": "2022-07-22T16:23:24.127600Z",
     "iopub.status.idle": "2022-07-22T16:23:24.134762Z",
     "shell.execute_reply": "2022-07-22T16:23:24.133771Z",
     "shell.execute_reply.started": "2022-07-22T16:23:24.127978Z"
    },
    "tags": []
   },
   "outputs": [],
   "source": [
    "if ls_se:\n",
    "    ls_sample = [i.split(\"/\")[-1].split(\"_SE.fastq\")[0] for i in ls_se]\n",
    "    end_type = \"SE\"\n",
    "\n",
    "if ls_pe:\n",
    "    ls_sample = [i.split(\"/\")[-1].split(\"_R1.fastq\")[0] for i in ls_se]\n",
    "    end_type = \"PE\""
   ]
  },
  {
   "cell_type": "code",
   "execution_count": 5,
   "metadata": {
    "execution": {
     "iopub.execute_input": "2022-07-22T16:23:24.136183Z",
     "iopub.status.busy": "2022-07-22T16:23:24.135817Z",
     "iopub.status.idle": "2022-07-22T16:23:24.152004Z",
     "shell.execute_reply": "2022-07-22T16:23:24.151096Z",
     "shell.execute_reply.started": "2022-07-22T16:23:24.136153Z"
    },
    "tags": []
   },
   "outputs": [
    {
     "data": {
      "text/plain": [
       "{'seq_mode': 'SE',\n",
       " 'samples': ['CTCF_ChIP-seq_CTCF-AID_auxin2days_rep1',\n",
       "  'CTCF_ChIP-seq_CTCF-AID_auxin2days_rep2',\n",
       "  'CTCF_ChIP-seq_CTCF-AID_untreated_rep1',\n",
       "  'CTCF_ChIP-seq_CTCF-AID_untreated_rep2',\n",
       "  'CTCF_ChIP-seq_CTCF-AID_washoff2days_rep1',\n",
       "  'CTCF_ChIP-seq_CTCF-AID_washoff2days_rep2',\n",
       "  'Input_for_CTCF_ChIP-seq_CTCF-AID_auxin2days_rep1',\n",
       "  'Input_for_CTCF_ChIP-seq_CTCF-AID_auxin2days_rep2',\n",
       "  'Spike-in-antibody-only_ChIP-seq_CTCF-AID_untreated_rep1',\n",
       "  'Spike-in-antibody-only_ChIP-seq_CTCF-AID_untreated_rep2'],\n",
       " 'thread': 20}"
      ]
     },
     "execution_count": 5,
     "metadata": {},
     "output_type": "execute_result"
    }
   ],
   "source": [
    "dt = {\"seq_mode\": end_type, \"samples\": ls_sample, \"thread\": thread}\n",
    "dt"
   ]
  },
  {
   "cell_type": "code",
   "execution_count": 6,
   "metadata": {
    "execution": {
     "iopub.execute_input": "2022-07-22T16:23:24.153526Z",
     "iopub.status.busy": "2022-07-22T16:23:24.153181Z",
     "iopub.status.idle": "2022-07-22T16:23:24.158402Z",
     "shell.execute_reply": "2022-07-22T16:23:24.157581Z",
     "shell.execute_reply.started": "2022-07-22T16:23:24.153496Z"
    },
    "tags": []
   },
   "outputs": [],
   "source": [
    "with open(\"./samples.json\", \"wt\") as f:\n",
    "    f.write(json.dumps(dt))"
   ]
  }
 ],
 "metadata": {
  "kernelspec": {
   "display_name": "Python 3 (ipykernel)",
   "language": "python",
   "name": "python3"
  },
  "language_info": {
   "codemirror_mode": {
    "name": "ipython",
    "version": 3
   },
   "file_extension": ".py",
   "mimetype": "text/x-python",
   "name": "python",
   "nbconvert_exporter": "python",
   "pygments_lexer": "ipython3",
   "version": "3.9.13"
  }
 },
 "nbformat": 4,
 "nbformat_minor": 4
}
